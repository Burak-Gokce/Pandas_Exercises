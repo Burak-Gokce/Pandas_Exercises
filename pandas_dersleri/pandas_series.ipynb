{
 "cells": [
  {
   "cell_type": "code",
   "execution_count": 1,
   "id": "10d6b24a-e93a-4ccc-b8eb-7c6d826f6cb7",
   "metadata": {},
   "outputs": [],
   "source": [
    "import pandas as pd\n",
    "import numpy as np"
   ]
  },
  {
   "cell_type": "code",
   "execution_count": 33,
   "id": "2255ba97-bc80-45ba-81dd-aa83c7b5dc87",
   "metadata": {},
   "outputs": [],
   "source": [
    "numbers = [20,30,40,50]"
   ]
  },
  {
   "cell_type": "code",
   "execution_count": 34,
   "id": "418c88e8-1c02-4eaa-b6bb-51b734e406a1",
   "metadata": {},
   "outputs": [
    {
     "data": {
      "text/plain": [
       "pandas.core.series.Series"
      ]
     },
     "execution_count": 34,
     "metadata": {},
     "output_type": "execute_result"
    }
   ],
   "source": [
    "pandas_series = pd.Series(numbers)\n",
    "type(pandas_series)"
   ]
  },
  {
   "cell_type": "code",
   "execution_count": 35,
   "id": "e822aba7-2e44-4bcd-8a63-f57c26e3a347",
   "metadata": {},
   "outputs": [
    {
     "data": {
      "text/plain": [
       "0    20\n",
       "1    30\n",
       "2    40\n",
       "3    50\n",
       "dtype: int64"
      ]
     },
     "execution_count": 35,
     "metadata": {},
     "output_type": "execute_result"
    }
   ],
   "source": [
    "pandas_series"
   ]
  },
  {
   "cell_type": "code",
   "execution_count": 8,
   "id": "0b601294-becb-490f-a18c-1a3722372c5f",
   "metadata": {},
   "outputs": [],
   "source": [
    "letters = ['a','b','c','d']\n",
    "pandas_series = pd.Series(letters)"
   ]
  },
  {
   "cell_type": "code",
   "execution_count": 9,
   "id": "c16d0c38-d981-45c0-9a49-506cb19a3a7a",
   "metadata": {},
   "outputs": [
    {
     "data": {
      "text/plain": [
       "0    a\n",
       "1    b\n",
       "2    c\n",
       "3    d\n",
       "dtype: object"
      ]
     },
     "execution_count": 9,
     "metadata": {},
     "output_type": "execute_result"
    }
   ],
   "source": [
    "pandas_series"
   ]
  },
  {
   "cell_type": "code",
   "execution_count": 10,
   "id": "ba11d9d8-12b6-43f2-a85f-15f4a87403fa",
   "metadata": {},
   "outputs": [],
   "source": [
    "pandas_series = pd.Series(5,[0,1,2,3])"
   ]
  },
  {
   "cell_type": "code",
   "execution_count": 11,
   "id": "be904fed-aec6-4c16-afb1-370756bcf3d6",
   "metadata": {},
   "outputs": [
    {
     "data": {
      "text/plain": [
       "0    5\n",
       "1    5\n",
       "2    5\n",
       "3    5\n",
       "dtype: int64"
      ]
     },
     "execution_count": 11,
     "metadata": {},
     "output_type": "execute_result"
    }
   ],
   "source": [
    "pandas_series"
   ]
  },
  {
   "cell_type": "code",
   "execution_count": 13,
   "id": "c3843005-4c4c-48e5-83c6-fd0c292622db",
   "metadata": {},
   "outputs": [
    {
     "data": {
      "text/plain": [
       "a    20\n",
       "b    30\n",
       "c    40\n",
       "d    50\n",
       "dtype: int64"
      ]
     },
     "execution_count": 13,
     "metadata": {},
     "output_type": "execute_result"
    }
   ],
   "source": [
    "pandas_series = pd.Series(numbers,['a','b','c','d'])\n",
    "pandas_series"
   ]
  },
  {
   "cell_type": "code",
   "execution_count": 14,
   "id": "8941d972-013d-45d6-81be-a087d4f1bbf4",
   "metadata": {},
   "outputs": [
    {
     "data": {
      "text/plain": [
       "a    10\n",
       "b    20\n",
       "c    30\n",
       "d    40\n",
       "dtype: int64"
      ]
     },
     "execution_count": 14,
     "metadata": {},
     "output_type": "execute_result"
    }
   ],
   "source": [
    "dict = {'a':10,'b':20,'c':30,'d':40}\n",
    "pandas_series = pd.Series(dict)\n",
    "pandas_series"
   ]
  },
  {
   "cell_type": "code",
   "execution_count": 15,
   "id": "d3781d5c-7598-4cf3-8ae2-4e525ce3f9b7",
   "metadata": {},
   "outputs": [
    {
     "data": {
      "text/plain": [
       "0    53\n",
       "1    56\n",
       "2    45\n",
       "3    53\n",
       "4    39\n",
       "5    14\n",
       "dtype: int32"
      ]
     },
     "execution_count": 15,
     "metadata": {},
     "output_type": "execute_result"
    }
   ],
   "source": [
    "random_numbers = np.random.randint(10,100,6)\n",
    "pandas_series = pd.Series(random_numbers)\n",
    "pandas_series"
   ]
  },
  {
   "cell_type": "code",
   "execution_count": 17,
   "id": "f8ad89f6-7856-407c-af6d-f01c1f6450f5",
   "metadata": {},
   "outputs": [
    {
     "data": {
      "text/plain": [
       "1"
      ]
     },
     "execution_count": 17,
     "metadata": {},
     "output_type": "execute_result"
    }
   ],
   "source": [
    "pandas_series.ndim\n",
    "#boyut sayısını verdi"
   ]
  },
  {
   "cell_type": "code",
   "execution_count": 19,
   "id": "0b064b57-2eb9-49ea-a1b4-df0bce95a614",
   "metadata": {},
   "outputs": [
    {
     "data": {
      "text/plain": [
       "dtype('int32')"
      ]
     },
     "execution_count": 19,
     "metadata": {},
     "output_type": "execute_result"
    }
   ],
   "source": [
    "pandas_series.dtype"
   ]
  },
  {
   "cell_type": "code",
   "execution_count": 20,
   "id": "e8be8596-1da9-40d0-b09d-7e4cadabd605",
   "metadata": {},
   "outputs": [
    {
     "data": {
      "text/plain": [
       "(6,)"
      ]
     },
     "execution_count": 20,
     "metadata": {},
     "output_type": "execute_result"
    }
   ],
   "source": [
    "pandas_series.shape"
   ]
  },
  {
   "cell_type": "code",
   "execution_count": 22,
   "id": "7cf70052-ab4d-4998-91c5-ff19e80e8f13",
   "metadata": {},
   "outputs": [
    {
     "data": {
      "text/plain": [
       "260"
      ]
     },
     "execution_count": 22,
     "metadata": {},
     "output_type": "execute_result"
    }
   ],
   "source": [
    "pandas_series.sum()\n",
    "#elemanlar toplamını verdi bize"
   ]
  },
  {
   "cell_type": "code",
   "execution_count": 23,
   "id": "adfa3342-2fa8-4f82-8157-95eee2894685",
   "metadata": {},
   "outputs": [
    {
     "data": {
      "text/plain": [
       "6"
      ]
     },
     "execution_count": 23,
     "metadata": {},
     "output_type": "execute_result"
    }
   ],
   "source": [
    "pandas_series.size"
   ]
  },
  {
   "cell_type": "code",
   "execution_count": 24,
   "id": "8510b5a5-d802-46be-bd97-b541377da241",
   "metadata": {},
   "outputs": [
    {
     "data": {
      "text/plain": [
       "56"
      ]
     },
     "execution_count": 24,
     "metadata": {},
     "output_type": "execute_result"
    }
   ],
   "source": [
    "pandas_series.max()\n",
    "#liste içerisindeki en büyük değer"
   ]
  },
  {
   "cell_type": "code",
   "execution_count": 25,
   "id": "ba068cbc-5099-4612-89cf-e982148de1a5",
   "metadata": {},
   "outputs": [
    {
     "data": {
      "text/plain": [
       "14"
      ]
     },
     "execution_count": 25,
     "metadata": {},
     "output_type": "execute_result"
    }
   ],
   "source": [
    "pandas_series.min()"
   ]
  },
  {
   "cell_type": "code",
   "execution_count": 27,
   "id": "19eaaa4b-e189-4ee7-b435-c5080a8cd636",
   "metadata": {},
   "outputs": [
    {
     "data": {
      "text/plain": [
       "0    7.280110\n",
       "1    7.483315\n",
       "2    6.708204\n",
       "3    7.280110\n",
       "4    6.244998\n",
       "5    3.741657\n",
       "dtype: float64"
      ]
     },
     "execution_count": 27,
     "metadata": {},
     "output_type": "execute_result"
    }
   ],
   "source": [
    "np.sqrt(pandas_series)\n",
    "#burada pandas serilerindeki değerlerin karekökünü aldık."
   ]
  },
  {
   "cell_type": "code",
   "execution_count": 28,
   "id": "79c7fe53-6b34-4425-89f7-3b3ac436201a",
   "metadata": {},
   "outputs": [
    {
     "data": {
      "text/plain": [
       "0     True\n",
       "1     True\n",
       "2    False\n",
       "3     True\n",
       "4    False\n",
       "5    False\n",
       "dtype: bool"
      ]
     },
     "execution_count": 28,
     "metadata": {},
     "output_type": "execute_result"
    }
   ],
   "source": [
    "pandas_series >= 50"
   ]
  },
  {
   "cell_type": "code",
   "execution_count": 30,
   "id": "059cd297-378c-471d-b909-26a300ac2a2c",
   "metadata": {},
   "outputs": [
    {
     "data": {
      "text/plain": [
       "1    56\n",
       "5    14\n",
       "dtype: int32"
      ]
     },
     "execution_count": 30,
     "metadata": {},
     "output_type": "execute_result"
    }
   ],
   "source": [
    "pandas_series[pandas_series %2 == 0]"
   ]
  },
  {
   "cell_type": "code",
   "execution_count": 32,
   "id": "cf88abac-3c40-4436-aaf1-785a88904c12",
   "metadata": {},
   "outputs": [
    {
     "data": {
      "text/plain": [
       "astra       20\n",
       "corsa       30\n",
       "mokka       40\n",
       "insignia    10\n",
       "dtype: int64"
      ]
     },
     "execution_count": 32,
     "metadata": {},
     "output_type": "execute_result"
    }
   ],
   "source": [
    "opel2018 = pd.Series([20,30,40,10],[\"astra\",\"corsa\",\"mokka\",\"insignia\"])\n",
    "opel2018"
   ]
  },
  {
   "cell_type": "code",
   "execution_count": null,
   "id": "68a63c3d-35e0-47cc-bfc1-3f045631fea6",
   "metadata": {},
   "outputs": [],
   "source": []
  }
 ],
 "metadata": {
  "kernelspec": {
   "display_name": "Python 3 (ipykernel)",
   "language": "python",
   "name": "python3"
  },
  "language_info": {
   "codemirror_mode": {
    "name": "ipython",
    "version": 3
   },
   "file_extension": ".py",
   "mimetype": "text/x-python",
   "name": "python",
   "nbconvert_exporter": "python",
   "pygments_lexer": "ipython3",
   "version": "3.9.12"
  }
 },
 "nbformat": 4,
 "nbformat_minor": 5
}
